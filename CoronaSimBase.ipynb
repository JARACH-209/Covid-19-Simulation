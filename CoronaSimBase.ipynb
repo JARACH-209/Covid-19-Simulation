{
  "nbformat": 4,
  "nbformat_minor": 0,
  "metadata": {
    "colab": {
      "name": "CoronaSimBase.ipynb",
      "provenance": [],
      "collapsed_sections": [],
      "authorship_tag": "ABX9TyOO5TL50+BgX6qUpiaRtHdZ",
      "include_colab_link": true
    },
    "kernelspec": {
      "name": "python3",
      "display_name": "Python 3"
    },
    "accelerator": "GPU"
  },
  "cells": [
    {
      "cell_type": "markdown",
      "metadata": {
        "id": "view-in-github",
        "colab_type": "text"
      },
      "source": [
        "<a href=\"https://colab.research.google.com/github/JARACH-209/Covid-19-Simulation/blob/master/CoronaSimBase.ipynb\" target=\"_parent\"><img src=\"https://colab.research.google.com/assets/colab-badge.svg\" alt=\"Open In Colab\"/></a>"
      ]
    },
    {
      "cell_type": "code",
      "metadata": {
        "id": "ZELf1-jE4Zd4",
        "colab_type": "code",
        "colab": {}
      },
      "source": [
        "def get_init():\n",
        "    xcord = [np.random.random()*box_width-box_width/2 for i in range(nparticles)]\n",
        "    ycord = [np.random.random()*box_width-box_width/2 for i in range(nparticles)]\n",
        "    return xcord, ycord"
      ],
      "execution_count": 0,
      "outputs": []
    },
    {
      "cell_type": "code",
      "metadata": {
        "id": "4ent2Tv54ent",
        "colab_type": "code",
        "colab": {}
      },
      "source": [
        "def get_initial_velo():\n",
        "    x_vel = [2*(np.random.random()-0.5)*box_width for i in range(nparticles)]\n",
        "    y_vel = [2*(np.random.random()-0.5)*box_width for i in range(nparticles)]\n",
        "    return x_vel, y_vel"
      ],
      "execution_count": 0,
      "outputs": []
    },
    {
      "cell_type": "code",
      "metadata": {
        "id": "BFY9tliE1yRl",
        "colab_type": "code",
        "outputId": "2e9f79b0-cbeb-4f7e-c5fc-d375919c078f",
        "colab": {
          "base_uri": "https://localhost:8080/",
          "height": 528
        }
      },
      "source": [
        "import numpy as np\n",
        "import matplotlib.pyplot as plt\n",
        "import matplotlib.animation as animation\n",
        "import matplotlib\n",
        "import random\n",
        "nparticles = 100\n",
        "box_width = 10\n",
        "n_steps = 5000\n",
        "dt = 0.001\n",
        "\n",
        "clr = [0 for i in range(nparticles)]\n",
        "n = int(random.randint(nparticles*.70,nparticles))     #picking a random particle\n",
        "clr[n] += 5         #infecting that random particle\n",
        "\n",
        "fig, ax = plt.subplots(figsize=(7,7))\n",
        "\n",
        "infection_range = 0.1 #how close the two people have to be in order to get infected\n",
        "infect_time = [0 for i in range(nparticles)]      #time for which a particle remains infected\n",
        "infection_period = 900      #multiple of 60 as FPS =60 so 15  seconds, total time of infection\n",
        "\n",
        "infect_time[n] += 1200\n",
        "\n",
        "xcord, ycord = get_init()\n",
        "x_vel, y_vel = get_initial_velo()\n",
        "\n",
        "points = ax.scatter(xcord,ycord, c=clr,cmap=\"Reds\",edgecolors=\"black\",linewidths=0.5)\n",
        "\n",
        "#plot returns a tuple so use points, use ',' after the variable name\n",
        "\n",
        "fig.tight_layout()\n",
        "\n",
        "ax.set_ylim(-5, 5)\n",
        "ax.set_xlim(-5,5)\n",
        "\n",
        "ax.get_xaxis().set_ticks([])\n",
        "ax.get_yaxis().set_ticks([])   #removes the axes\n",
        "\n",
        "ax.text(1, -4.75, 'By Achal Dixit',\n",
        "         fontsize=10, color='black',\n",
        "         ha='right', va='bottom', alpha=0.5)\n",
        "ax.set_xlabel(\"Sreading pattern with 100% movement and recovery\")\n",
        "#for i in range(n_steps):\n",
        " #   xcord, ycord, x_vel, y_vel = take_step(xcord,ycord, x_vel, y_vel)\n"
      ],
      "execution_count": 0,
      "outputs": [
        {
          "output_type": "execute_result",
          "data": {
            "text/plain": [
              "Text(0.5, 42.0, 'Sreading pattern with 100% movement and recovery')"
            ]
          },
          "metadata": {
            "tags": []
          },
          "execution_count": 24
        },
        {
          "output_type": "display_data",
          "data": {
            "image/png": "[encoded data removed]",
            "text/plain": [
              "<Figure size 504x504 with 1 Axes>"
            ]
          },
          "metadata": {
            "tags": []
          }
        }
      ]
    },
    {
      "cell_type": "code",
      "metadata": {
        "id": "kHwJqG4C18xp",
        "colab_type": "code",
        "colab": {}
      },
      "source": [
        "def update(data):\n",
        "    for i in range(int(nparticles)):\n",
        "        xcord[i] += x_vel[i]*dt\n",
        "        ycord[i] += y_vel[i]*dt\n",
        "\n",
        "        for y in range(i+1,int(nparticles)):\n",
        "            if xcord[i] == xcord[y] and ycord[i] == ycord[y] or abs(xcord[i] - xcord[y]) < infection_range and abs(ycord[i] - ycord[y]) < infection_range :\n",
        "                #tweak the infection_range parameter to get the infection range.\n",
        "            # if xcord[i] == xcord[y] and ycord[i] == ycord[y]:\n",
        "                if(clr[i]>0 and clr[y]< 5) :\n",
        "                    clr[y] += 5;\n",
        "                    infect_time[y] += infection_period; \n",
        "                elif(clr[i]<5 and clr[y]>0):\n",
        "                    clr[i] += 5;\n",
        "                    infect_time[i] += infection_period;\n",
        "                else: \n",
        "                    True\n",
        "\n",
        "        if abs( xcord[i]) > box_width/2:\n",
        "            x_vel[i] = -x_vel[i]\n",
        "            xcord[i] += x_vel[i]*dt\n",
        "        if abs( ycord[i]) > box_width/2:\n",
        "            y_vel[i] = -y_vel[i]\n",
        "            ycord[i] += y_vel[i]*dt\n",
        "\n",
        "        if infect_time[i] > 0:      #treating the particles\n",
        "            infect_time[i] -= 1\n",
        "        if infect_time[i] == 0:\n",
        "            clr[i] = 0\n",
        "\n",
        "    #points.set_xdata(xcord)\n",
        "    #points.set_ydata(ycord)\n",
        "    #plt.cla()\n",
        "    ax.cla()\n",
        "    points = ax.scatter(xcord,ycord, c=clr,cmap=\"Reds\",edgecolors=\"black\",linewidths=0.5)\n",
        "    ax.get_xaxis().set_ticks([])\n",
        "    ax.get_yaxis().set_ticks([])   #removes the axes\n",
        "\n",
        "    ax.text(1, -4.75, 'By Achal Dixit',fontsize=10, color='black',ha='right', va='bottom', alpha=0.5)\n",
        "    ax.set_xlabel(\"Sreading pattern with 100% movement and Recovery\")\n",
        "    #points.set_offsets(np.c_[xcord,ycord])\n",
        "    return points"
      ],
      "execution_count": 0,
      "outputs": []
    },
    {
      "cell_type": "code",
      "metadata": {
        "id": "Tvt3o5dn2B7m",
        "colab_type": "code",
        "colab": {}
      },
      "source": [
        "%matplotlib inline\n",
        "matplotlib.rcParams['animation.embed_limit'] = 2**128\n",
        "ani = animation.FuncAnimation(fig, update,frames= np.arange(0,4000,),interval=1)\n",
        "ani.save('animationFullM&Rec.mp4', fps=60);\n",
        "plt.show()\n",
        "from IPython.display import HTML\n",
        "HTML(ani.to_jshtml())"
      ],
      "execution_count": 0,
      "outputs": []
    },
    {
      "cell_type": "code",
      "metadata": {
        "id": "W2djkRq3nAb2",
        "colab_type": "code",
        "colab": {}
      },
      "source": [
        "import os\n",
        "print( os.getcwd() )\n",
        "print( os.listdir() )"
      ],
      "execution_count": 0,
      "outputs": []
    },
    {
      "cell_type": "code",
      "metadata": {
        "id": "w9I2Du_InOUK",
        "colab_type": "code",
        "colab": {}
      },
      "source": [
        "from google.colab import files\n",
        "files.download( \"animationFirst.mp4\" )  "
      ],
      "execution_count": 0,
      "outputs": []
    },
    {
      "cell_type": "code",
      "metadata": {
        "id": "OdVpO49L7oTC",
        "colab_type": "code",
        "colab": {}
      },
      "source": [
        ""
      ],
      "execution_count": 0,
      "outputs": []
    }
  ]
}